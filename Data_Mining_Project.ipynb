{
  "cells": [
    {
      "cell_type": "code",
      "execution_count": 2,
      "metadata": {
        "id": "4fgAv74VLWAw"
      },
      "outputs": [],
      "source": [
        "import pandas as pd\n",
        "import nltk\n",
        "import matplotlib.pyplot as plt\n",
        "import seaborn as sns\n",
        "import string\n",
        "from nltk.tokenize import word_tokenize\n",
        "from nltk.corpus import stopwords\n",
        "from sklearn.feature_extraction.text import CountVectorizer\n",
        "from sklearn.preprocessing import StandardScaler\n",
        "from sklearn.model_selection import train_test_split\n",
        "from sklearn.ensemble import RandomForestClassifier"
      ]
    },
    {
      "cell_type": "code",
      "execution_count": 207,
      "metadata": {
        "colab": {
          "base_uri": "https://localhost:8080/"
        },
        "id": "jy3wZImoOo0r",
        "outputId": "8ae1f260-87dc-40bd-df85-2607fa9921f8"
      },
      "outputs": [
        {
          "name": "stderr",
          "output_type": "stream",
          "text": [
            "[nltk_data] Downloading package punkt to /home/scorpion/nltk_data...\n",
            "[nltk_data]   Package punkt is already up-to-date!\n",
            "[nltk_data] Downloading package stopwords to\n",
            "[nltk_data]     /home/scorpion/nltk_data...\n",
            "[nltk_data]   Package stopwords is already up-to-date!\n",
            "[nltk_data] Downloading package wordnet to /home/scorpion/nltk_data...\n",
            "[nltk_data]   Package wordnet is already up-to-date!\n"
          ]
        },
        {
          "data": {
            "text/plain": [
              "True"
            ]
          },
          "execution_count": 207,
          "metadata": {},
          "output_type": "execute_result"
        }
      ],
      "source": [
        "# Load necessary NLTK resources\n",
        "nltk.download('punkt')\n",
        "nltk.download('stopwords')\n",
        "nltk.download('wordnet')"
      ]
    },
    {
      "cell_type": "code",
      "execution_count": 208,
      "metadata": {
        "colab": {
          "base_uri": "https://localhost:8080/",
          "height": 424
        },
        "id": "HxTeow6F7qL3",
        "outputId": "3a6e1a59-df9c-426e-d307-4157038b61fd"
      },
      "outputs": [
        {
          "data": {
            "text/html": [
              "<div>\n",
              "<style scoped>\n",
              "    .dataframe tbody tr th:only-of-type {\n",
              "        vertical-align: middle;\n",
              "    }\n",
              "\n",
              "    .dataframe tbody tr th {\n",
              "        vertical-align: top;\n",
              "    }\n",
              "\n",
              "    .dataframe thead th {\n",
              "        text-align: right;\n",
              "    }\n",
              "</style>\n",
              "<table border=\"1\" class=\"dataframe\">\n",
              "  <thead>\n",
              "    <tr style=\"text-align: right;\">\n",
              "      <th></th>\n",
              "      <th>Comment</th>\n",
              "      <th>label</th>\n",
              "    </tr>\n",
              "  </thead>\n",
              "  <tbody>\n",
              "    <tr>\n",
              "      <th>0</th>\n",
              "      <td>So there is no way for me to plug it in here i...</td>\n",
              "      <td>0</td>\n",
              "    </tr>\n",
              "    <tr>\n",
              "      <th>1</th>\n",
              "      <td>Good case, Excellent value.</td>\n",
              "      <td>1</td>\n",
              "    </tr>\n",
              "    <tr>\n",
              "      <th>2</th>\n",
              "      <td>Great for the jawbone.</td>\n",
              "      <td>1</td>\n",
              "    </tr>\n",
              "    <tr>\n",
              "      <th>3</th>\n",
              "      <td>Tied to charger for conversations lasting more...</td>\n",
              "      <td>0</td>\n",
              "    </tr>\n",
              "    <tr>\n",
              "      <th>4</th>\n",
              "      <td>The mic is great.</td>\n",
              "      <td>1</td>\n",
              "    </tr>\n",
              "    <tr>\n",
              "      <th>...</th>\n",
              "      <td>...</td>\n",
              "      <td>...</td>\n",
              "    </tr>\n",
              "    <tr>\n",
              "      <th>995</th>\n",
              "      <td>The screen does get smudged easily because it ...</td>\n",
              "      <td>0</td>\n",
              "    </tr>\n",
              "    <tr>\n",
              "      <th>996</th>\n",
              "      <td>What a piece of junk.. I lose more calls on th...</td>\n",
              "      <td>0</td>\n",
              "    </tr>\n",
              "    <tr>\n",
              "      <th>997</th>\n",
              "      <td>Item Does Not Match Picture.</td>\n",
              "      <td>0</td>\n",
              "    </tr>\n",
              "    <tr>\n",
              "      <th>998</th>\n",
              "      <td>The only thing that disappoint me is the infra...</td>\n",
              "      <td>0</td>\n",
              "    </tr>\n",
              "    <tr>\n",
              "      <th>999</th>\n",
              "      <td>You can not answer calls with the unit, never ...</td>\n",
              "      <td>0</td>\n",
              "    </tr>\n",
              "  </tbody>\n",
              "</table>\n",
              "<p>1000 rows × 2 columns</p>\n",
              "</div>"
            ],
            "text/plain": [
              "                                               Comment  label\n",
              "0    So there is no way for me to plug it in here i...      0\n",
              "1                          Good case, Excellent value.      1\n",
              "2                               Great for the jawbone.      1\n",
              "3    Tied to charger for conversations lasting more...      0\n",
              "4                                    The mic is great.      1\n",
              "..                                                 ...    ...\n",
              "995  The screen does get smudged easily because it ...      0\n",
              "996  What a piece of junk.. I lose more calls on th...      0\n",
              "997                       Item Does Not Match Picture.      0\n",
              "998  The only thing that disappoint me is the infra...      0\n",
              "999  You can not answer calls with the unit, never ...      0\n",
              "\n",
              "[1000 rows x 2 columns]"
            ]
          },
          "execution_count": 208,
          "metadata": {},
          "output_type": "execute_result"
        }
      ],
      "source": [
        "# Load the data\n",
        "df = pd.read_csv(r\"amazon_cells_labelled.txt\",sep=\"\\t\",header = None)\n",
        "df.columns = [\"Comment\",\"label\"]\n",
        "df"
      ]
    },
    {
      "cell_type": "code",
      "execution_count": 209,
      "metadata": {
        "colab": {
          "base_uri": "https://localhost:8080/"
        },
        "id": "UMVTsigURe_Z",
        "outputId": "88205d76-fe5d-48df-a1c9-26f3b15d9ceb"
      },
      "outputs": [
        {
          "data": {
            "text/plain": [
              "(1000, 2)"
            ]
          },
          "execution_count": 209,
          "metadata": {},
          "output_type": "execute_result"
        }
      ],
      "source": [
        "df.shape"
      ]
    },
    {
      "cell_type": "code",
      "execution_count": 210,
      "metadata": {
        "colab": {
          "base_uri": "https://localhost:8080/"
        },
        "id": "0XiCCOhh9L9y",
        "outputId": "48e8ea73-f7f2-4502-bb8c-fef95cef6d7d"
      },
      "outputs": [
        {
          "name": "stdout",
          "output_type": "stream",
          "text": [
            "<class 'pandas.core.frame.DataFrame'>\n",
            "RangeIndex: 1000 entries, 0 to 999\n",
            "Data columns (total 2 columns):\n",
            " #   Column   Non-Null Count  Dtype \n",
            "---  ------   --------------  ----- \n",
            " 0   Comment  1000 non-null   object\n",
            " 1   label    1000 non-null   int64 \n",
            "dtypes: int64(1), object(1)\n",
            "memory usage: 15.8+ KB\n"
          ]
        }
      ],
      "source": [
        "df.info()"
      ]
    },
    {
      "cell_type": "code",
      "execution_count": 211,
      "metadata": {
        "colab": {
          "base_uri": "https://localhost:8080/",
          "height": 300
        },
        "id": "_E3uxYDARkTo",
        "outputId": "9b94d9e6-b7d0-40d4-9f27-78e40f6e44ba"
      },
      "outputs": [
        {
          "data": {
            "text/html": [
              "<div>\n",
              "<style scoped>\n",
              "    .dataframe tbody tr th:only-of-type {\n",
              "        vertical-align: middle;\n",
              "    }\n",
              "\n",
              "    .dataframe tbody tr th {\n",
              "        vertical-align: top;\n",
              "    }\n",
              "\n",
              "    .dataframe thead th {\n",
              "        text-align: right;\n",
              "    }\n",
              "</style>\n",
              "<table border=\"1\" class=\"dataframe\">\n",
              "  <thead>\n",
              "    <tr style=\"text-align: right;\">\n",
              "      <th></th>\n",
              "      <th>label</th>\n",
              "    </tr>\n",
              "  </thead>\n",
              "  <tbody>\n",
              "    <tr>\n",
              "      <th>count</th>\n",
              "      <td>1000.00000</td>\n",
              "    </tr>\n",
              "    <tr>\n",
              "      <th>mean</th>\n",
              "      <td>0.50000</td>\n",
              "    </tr>\n",
              "    <tr>\n",
              "      <th>std</th>\n",
              "      <td>0.50025</td>\n",
              "    </tr>\n",
              "    <tr>\n",
              "      <th>min</th>\n",
              "      <td>0.00000</td>\n",
              "    </tr>\n",
              "    <tr>\n",
              "      <th>25%</th>\n",
              "      <td>0.00000</td>\n",
              "    </tr>\n",
              "    <tr>\n",
              "      <th>50%</th>\n",
              "      <td>0.50000</td>\n",
              "    </tr>\n",
              "    <tr>\n",
              "      <th>75%</th>\n",
              "      <td>1.00000</td>\n",
              "    </tr>\n",
              "    <tr>\n",
              "      <th>max</th>\n",
              "      <td>1.00000</td>\n",
              "    </tr>\n",
              "  </tbody>\n",
              "</table>\n",
              "</div>"
            ],
            "text/plain": [
              "            label\n",
              "count  1000.00000\n",
              "mean      0.50000\n",
              "std       0.50025\n",
              "min       0.00000\n",
              "25%       0.00000\n",
              "50%       0.50000\n",
              "75%       1.00000\n",
              "max       1.00000"
            ]
          },
          "execution_count": 211,
          "metadata": {},
          "output_type": "execute_result"
        }
      ],
      "source": [
        "df.describe()"
      ]
    },
    {
      "cell_type": "code",
      "execution_count": 212,
      "metadata": {
        "colab": {
          "base_uri": "https://localhost:8080/"
        },
        "id": "8pN-Q05dR3_5",
        "outputId": "5913a6b6-82a4-4059-e018-493176d5e356"
      },
      "outputs": [
        {
          "data": {
            "text/plain": [
              "label\n",
              "0    500\n",
              "1    500\n",
              "Name: count, dtype: int64"
            ]
          },
          "execution_count": 212,
          "metadata": {},
          "output_type": "execute_result"
        }
      ],
      "source": [
        "df.label.value_counts()"
      ]
    },
    {
      "cell_type": "code",
      "execution_count": 213,
      "metadata": {
        "colab": {
          "base_uri": "https://localhost:8080/"
        },
        "id": "9ZVkiIV7Sfpa",
        "outputId": "bc98e1db-e07e-47b2-ce6d-a5fc201c0814"
      },
      "outputs": [
        {
          "data": {
            "text/plain": [
              "label\n",
              "0    0.5\n",
              "1    0.5\n",
              "Name: proportion, dtype: float64"
            ]
          },
          "execution_count": 213,
          "metadata": {},
          "output_type": "execute_result"
        }
      ],
      "source": [
        "df.label.value_counts(normalize=True)"
      ]
    },
    {
      "cell_type": "code",
      "execution_count": 214,
      "metadata": {
        "colab": {
          "base_uri": "https://localhost:8080/",
          "height": 528
        },
        "id": "9indlkcwSza9",
        "outputId": "2b1bb64c-65f5-4106-8e51-ec78e41c4a07"
      },
      "outputs": [
        {
          "data": {
            "image/png": "[encoded data removed]",
            "text/plain": [
              "<Figure size 800x600 with 1 Axes>"
            ]
          },
          "metadata": {},
          "output_type": "display_data"
        }
      ],
      "source": [
        "plt.figure(figsize=(8, 6))  # Set the figure size\n",
        "df.label.value_counts(normalize=True).plot.pie(autopct='%1.1f%%', labels=['Negative', 'Positive'], colors=['red', 'green'])\n",
        "plt.title('Label Distribution')  # Add a title\n",
        "plt.axis('equal')  # Equal aspect ratio ensures that pie is drawn as a circle.\n",
        "plt.show()\n"
      ]
    },
    {
      "cell_type": "code",
      "execution_count": 215,
      "metadata": {
        "colab": {
          "base_uri": "https://localhost:8080/",
          "height": 424
        },
        "id": "ZZg4MCzjUjoR",
        "outputId": "867235f3-c4ef-4989-8cba-b560cd6db8fd"
      },
      "outputs": [
        {
          "data": {
            "text/html": [
              "<div>\n",
              "<style scoped>\n",
              "    .dataframe tbody tr th:only-of-type {\n",
              "        vertical-align: middle;\n",
              "    }\n",
              "\n",
              "    .dataframe tbody tr th {\n",
              "        vertical-align: top;\n",
              "    }\n",
              "\n",
              "    .dataframe thead th {\n",
              "        text-align: right;\n",
              "    }\n",
              "</style>\n",
              "<table border=\"1\" class=\"dataframe\">\n",
              "  <thead>\n",
              "    <tr style=\"text-align: right;\">\n",
              "      <th></th>\n",
              "      <th>Comment</th>\n",
              "      <th>label</th>\n",
              "      <th>Comment_nopunct</th>\n",
              "    </tr>\n",
              "  </thead>\n",
              "  <tbody>\n",
              "    <tr>\n",
              "      <th>0</th>\n",
              "      <td>So there is no way for me to plug it in here i...</td>\n",
              "      <td>0</td>\n",
              "      <td>so there is no way for me to plug it in here i...</td>\n",
              "    </tr>\n",
              "    <tr>\n",
              "      <th>1</th>\n",
              "      <td>Good case, Excellent value.</td>\n",
              "      <td>1</td>\n",
              "      <td>good case excellent value</td>\n",
              "    </tr>\n",
              "    <tr>\n",
              "      <th>2</th>\n",
              "      <td>Great for the jawbone.</td>\n",
              "      <td>1</td>\n",
              "      <td>great for the jawbone</td>\n",
              "    </tr>\n",
              "    <tr>\n",
              "      <th>3</th>\n",
              "      <td>Tied to charger for conversations lasting more...</td>\n",
              "      <td>0</td>\n",
              "      <td>tied to charger for conversations lasting more...</td>\n",
              "    </tr>\n",
              "    <tr>\n",
              "      <th>4</th>\n",
              "      <td>The mic is great.</td>\n",
              "      <td>1</td>\n",
              "      <td>the mic is great</td>\n",
              "    </tr>\n",
              "    <tr>\n",
              "      <th>...</th>\n",
              "      <td>...</td>\n",
              "      <td>...</td>\n",
              "      <td>...</td>\n",
              "    </tr>\n",
              "    <tr>\n",
              "      <th>995</th>\n",
              "      <td>The screen does get smudged easily because it ...</td>\n",
              "      <td>0</td>\n",
              "      <td>the screen does get smudged easily because it ...</td>\n",
              "    </tr>\n",
              "    <tr>\n",
              "      <th>996</th>\n",
              "      <td>What a piece of junk.. I lose more calls on th...</td>\n",
              "      <td>0</td>\n",
              "      <td>what a piece of junk i lose more calls on this...</td>\n",
              "    </tr>\n",
              "    <tr>\n",
              "      <th>997</th>\n",
              "      <td>Item Does Not Match Picture.</td>\n",
              "      <td>0</td>\n",
              "      <td>item does not match picture</td>\n",
              "    </tr>\n",
              "    <tr>\n",
              "      <th>998</th>\n",
              "      <td>The only thing that disappoint me is the infra...</td>\n",
              "      <td>0</td>\n",
              "      <td>the only thing that disappoint me is the infra...</td>\n",
              "    </tr>\n",
              "    <tr>\n",
              "      <th>999</th>\n",
              "      <td>You can not answer calls with the unit, never ...</td>\n",
              "      <td>0</td>\n",
              "      <td>you can not answer calls with the unit never w...</td>\n",
              "    </tr>\n",
              "  </tbody>\n",
              "</table>\n",
              "<p>1000 rows × 3 columns</p>\n",
              "</div>"
            ],
            "text/plain": [
              "                                               Comment  label  \\\n",
              "0    So there is no way for me to plug it in here i...      0   \n",
              "1                          Good case, Excellent value.      1   \n",
              "2                               Great for the jawbone.      1   \n",
              "3    Tied to charger for conversations lasting more...      0   \n",
              "4                                    The mic is great.      1   \n",
              "..                                                 ...    ...   \n",
              "995  The screen does get smudged easily because it ...      0   \n",
              "996  What a piece of junk.. I lose more calls on th...      0   \n",
              "997                       Item Does Not Match Picture.      0   \n",
              "998  The only thing that disappoint me is the infra...      0   \n",
              "999  You can not answer calls with the unit, never ...      0   \n",
              "\n",
              "                                       Comment_nopunct  \n",
              "0    so there is no way for me to plug it in here i...  \n",
              "1                            good case excellent value  \n",
              "2                                great for the jawbone  \n",
              "3    tied to charger for conversations lasting more...  \n",
              "4                                     the mic is great  \n",
              "..                                                 ...  \n",
              "995  the screen does get smudged easily because it ...  \n",
              "996  what a piece of junk i lose more calls on this...  \n",
              "997                        item does not match picture  \n",
              "998  the only thing that disappoint me is the infra...  \n",
              "999  you can not answer calls with the unit never w...  \n",
              "\n",
              "[1000 rows x 3 columns]"
            ]
          },
          "execution_count": 215,
          "metadata": {},
          "output_type": "execute_result"
        }
      ],
      "source": [
        "# Function to remove punctuation from a comment\n",
        "def remove_punctiation(comment):\n",
        "  comment_nopunct = \"\".join([char for char in comment if char not in string.punctuation])\n",
        "  return comment_nopunct\n",
        "\n",
        "# Apply remove_punctuation function to each comment and convert to lowercase\n",
        "df[\"Comment_nopunct\"] = df[\"Comment\"].apply(lambda x : remove_punctiation(x.lower()))\n",
        "df"
      ]
    },
    {
      "cell_type": "code",
      "execution_count": 216,
      "metadata": {
        "colab": {
          "base_uri": "https://localhost:8080/",
          "height": 241
        },
        "id": "X6OIEwqMYjNA",
        "outputId": "f932633a-9caf-4625-8ac4-4a6ff9e27eb4"
      },
      "outputs": [
        {
          "data": {
            "text/html": [
              "<div>\n",
              "<style scoped>\n",
              "    .dataframe tbody tr th:only-of-type {\n",
              "        vertical-align: middle;\n",
              "    }\n",
              "\n",
              "    .dataframe tbody tr th {\n",
              "        vertical-align: top;\n",
              "    }\n",
              "\n",
              "    .dataframe thead th {\n",
              "        text-align: right;\n",
              "    }\n",
              "</style>\n",
              "<table border=\"1\" class=\"dataframe\">\n",
              "  <thead>\n",
              "    <tr style=\"text-align: right;\">\n",
              "      <th></th>\n",
              "      <th>Comment</th>\n",
              "      <th>label</th>\n",
              "      <th>Comment_nopunct</th>\n",
              "      <th>Comment_tokenized</th>\n",
              "    </tr>\n",
              "  </thead>\n",
              "  <tbody>\n",
              "    <tr>\n",
              "      <th>0</th>\n",
              "      <td>So there is no way for me to plug it in here i...</td>\n",
              "      <td>0</td>\n",
              "      <td>so there is no way for me to plug it in here i...</td>\n",
              "      <td>[so, there, is, no, way, for, me, to, plug, it...</td>\n",
              "    </tr>\n",
              "    <tr>\n",
              "      <th>1</th>\n",
              "      <td>Good case, Excellent value.</td>\n",
              "      <td>1</td>\n",
              "      <td>good case excellent value</td>\n",
              "      <td>[good, case, excellent, value]</td>\n",
              "    </tr>\n",
              "    <tr>\n",
              "      <th>2</th>\n",
              "      <td>Great for the jawbone.</td>\n",
              "      <td>1</td>\n",
              "      <td>great for the jawbone</td>\n",
              "      <td>[great, for, the, jawbone]</td>\n",
              "    </tr>\n",
              "    <tr>\n",
              "      <th>3</th>\n",
              "      <td>Tied to charger for conversations lasting more...</td>\n",
              "      <td>0</td>\n",
              "      <td>tied to charger for conversations lasting more...</td>\n",
              "      <td>[tied, to, charger, for, conversations, lastin...</td>\n",
              "    </tr>\n",
              "    <tr>\n",
              "      <th>4</th>\n",
              "      <td>The mic is great.</td>\n",
              "      <td>1</td>\n",
              "      <td>the mic is great</td>\n",
              "      <td>[the, mic, is, great]</td>\n",
              "    </tr>\n",
              "  </tbody>\n",
              "</table>\n",
              "</div>"
            ],
            "text/plain": [
              "                                             Comment  label  \\\n",
              "0  So there is no way for me to plug it in here i...      0   \n",
              "1                        Good case, Excellent value.      1   \n",
              "2                             Great for the jawbone.      1   \n",
              "3  Tied to charger for conversations lasting more...      0   \n",
              "4                                  The mic is great.      1   \n",
              "\n",
              "                                     Comment_nopunct  \\\n",
              "0  so there is no way for me to plug it in here i...   \n",
              "1                          good case excellent value   \n",
              "2                              great for the jawbone   \n",
              "3  tied to charger for conversations lasting more...   \n",
              "4                                   the mic is great   \n",
              "\n",
              "                                   Comment_tokenized  \n",
              "0  [so, there, is, no, way, for, me, to, plug, it...  \n",
              "1                     [good, case, excellent, value]  \n",
              "2                         [great, for, the, jawbone]  \n",
              "3  [tied, to, charger, for, conversations, lastin...  \n",
              "4                              [the, mic, is, great]  "
            ]
          },
          "execution_count": 216,
          "metadata": {},
          "output_type": "execute_result"
        }
      ],
      "source": [
        "# Tokenize each comment\n",
        "def tokenize(comment):\n",
        "    tokens = word_tokenize(comment)\n",
        "    return tokens\n",
        "\n",
        "df['Comment_tokenized'] = df['Comment_nopunct'].apply(lambda x : tokenize(x))\n",
        "df.head()"
      ]
    },
    {
      "cell_type": "code",
      "execution_count": 217,
      "metadata": {
        "colab": {
          "base_uri": "https://localhost:8080/",
          "height": 519
        },
        "id": "U0K0hfZLboXR",
        "outputId": "407fa481-34ff-49c1-de54-ad50259ac8e1"
      },
      "outputs": [
        {
          "data": {
            "text/html": [
              "<div>\n",
              "<style scoped>\n",
              "    .dataframe tbody tr th:only-of-type {\n",
              "        vertical-align: middle;\n",
              "    }\n",
              "\n",
              "    .dataframe tbody tr th {\n",
              "        vertical-align: top;\n",
              "    }\n",
              "\n",
              "    .dataframe thead th {\n",
              "        text-align: right;\n",
              "    }\n",
              "</style>\n",
              "<table border=\"1\" class=\"dataframe\">\n",
              "  <thead>\n",
              "    <tr style=\"text-align: right;\">\n",
              "      <th></th>\n",
              "      <th>Comment</th>\n",
              "      <th>label</th>\n",
              "      <th>Comment_nopunct</th>\n",
              "      <th>Comment_tokenized</th>\n",
              "      <th>Comment_nostopwords</th>\n",
              "    </tr>\n",
              "  </thead>\n",
              "  <tbody>\n",
              "    <tr>\n",
              "      <th>0</th>\n",
              "      <td>So there is no way for me to plug it in here i...</td>\n",
              "      <td>0</td>\n",
              "      <td>so there is no way for me to plug it in here i...</td>\n",
              "      <td>[so, there, is, no, way, for, me, to, plug, it...</td>\n",
              "      <td>[way, plug, us, unless, go, converter]</td>\n",
              "    </tr>\n",
              "    <tr>\n",
              "      <th>1</th>\n",
              "      <td>Good case, Excellent value.</td>\n",
              "      <td>1</td>\n",
              "      <td>good case excellent value</td>\n",
              "      <td>[good, case, excellent, value]</td>\n",
              "      <td>[good, case, excellent, value]</td>\n",
              "    </tr>\n",
              "    <tr>\n",
              "      <th>2</th>\n",
              "      <td>Great for the jawbone.</td>\n",
              "      <td>1</td>\n",
              "      <td>great for the jawbone</td>\n",
              "      <td>[great, for, the, jawbone]</td>\n",
              "      <td>[great, jawbone]</td>\n",
              "    </tr>\n",
              "    <tr>\n",
              "      <th>3</th>\n",
              "      <td>Tied to charger for conversations lasting more...</td>\n",
              "      <td>0</td>\n",
              "      <td>tied to charger for conversations lasting more...</td>\n",
              "      <td>[tied, to, charger, for, conversations, lastin...</td>\n",
              "      <td>[tied, charger, conversations, lasting, 45, mi...</td>\n",
              "    </tr>\n",
              "    <tr>\n",
              "      <th>4</th>\n",
              "      <td>The mic is great.</td>\n",
              "      <td>1</td>\n",
              "      <td>the mic is great</td>\n",
              "      <td>[the, mic, is, great]</td>\n",
              "      <td>[mic, great]</td>\n",
              "    </tr>\n",
              "    <tr>\n",
              "      <th>5</th>\n",
              "      <td>I have to jiggle the plug to get it to line up...</td>\n",
              "      <td>0</td>\n",
              "      <td>i have to jiggle the plug to get it to line up...</td>\n",
              "      <td>[i, have, to, jiggle, the, plug, to, get, it, ...</td>\n",
              "      <td>[jiggle, plug, get, line, right, get, decent, ...</td>\n",
              "    </tr>\n",
              "    <tr>\n",
              "      <th>6</th>\n",
              "      <td>If you have several dozen or several hundred c...</td>\n",
              "      <td>0</td>\n",
              "      <td>if you have several dozen or several hundred c...</td>\n",
              "      <td>[if, you, have, several, dozen, or, several, h...</td>\n",
              "      <td>[several, dozen, several, hundred, contacts, i...</td>\n",
              "    </tr>\n",
              "    <tr>\n",
              "      <th>7</th>\n",
              "      <td>If you are Razr owner...you must have this!</td>\n",
              "      <td>1</td>\n",
              "      <td>if you are razr owneryou must have this</td>\n",
              "      <td>[if, you, are, razr, owneryou, must, have, this]</td>\n",
              "      <td>[razr, owneryou, must]</td>\n",
              "    </tr>\n",
              "    <tr>\n",
              "      <th>8</th>\n",
              "      <td>Needless to say, I wasted my money.</td>\n",
              "      <td>0</td>\n",
              "      <td>needless to say i wasted my money</td>\n",
              "      <td>[needless, to, say, i, wasted, my, money]</td>\n",
              "      <td>[needless, say, wasted, money]</td>\n",
              "    </tr>\n",
              "    <tr>\n",
              "      <th>9</th>\n",
              "      <td>What a waste of money and time!.</td>\n",
              "      <td>0</td>\n",
              "      <td>what a waste of money and time</td>\n",
              "      <td>[what, a, waste, of, money, and, time]</td>\n",
              "      <td>[waste, money, time]</td>\n",
              "    </tr>\n",
              "  </tbody>\n",
              "</table>\n",
              "</div>"
            ],
            "text/plain": [
              "                                             Comment  label  \\\n",
              "0  So there is no way for me to plug it in here i...      0   \n",
              "1                        Good case, Excellent value.      1   \n",
              "2                             Great for the jawbone.      1   \n",
              "3  Tied to charger for conversations lasting more...      0   \n",
              "4                                  The mic is great.      1   \n",
              "5  I have to jiggle the plug to get it to line up...      0   \n",
              "6  If you have several dozen or several hundred c...      0   \n",
              "7        If you are Razr owner...you must have this!      1   \n",
              "8                Needless to say, I wasted my money.      0   \n",
              "9                   What a waste of money and time!.      0   \n",
              "\n",
              "                                     Comment_nopunct  \\\n",
              "0  so there is no way for me to plug it in here i...   \n",
              "1                          good case excellent value   \n",
              "2                              great for the jawbone   \n",
              "3  tied to charger for conversations lasting more...   \n",
              "4                                   the mic is great   \n",
              "5  i have to jiggle the plug to get it to line up...   \n",
              "6  if you have several dozen or several hundred c...   \n",
              "7            if you are razr owneryou must have this   \n",
              "8                  needless to say i wasted my money   \n",
              "9                     what a waste of money and time   \n",
              "\n",
              "                                   Comment_tokenized  \\\n",
              "0  [so, there, is, no, way, for, me, to, plug, it...   \n",
              "1                     [good, case, excellent, value]   \n",
              "2                         [great, for, the, jawbone]   \n",
              "3  [tied, to, charger, for, conversations, lastin...   \n",
              "4                              [the, mic, is, great]   \n",
              "5  [i, have, to, jiggle, the, plug, to, get, it, ...   \n",
              "6  [if, you, have, several, dozen, or, several, h...   \n",
              "7   [if, you, are, razr, owneryou, must, have, this]   \n",
              "8          [needless, to, say, i, wasted, my, money]   \n",
              "9             [what, a, waste, of, money, and, time]   \n",
              "\n",
              "                                 Comment_nostopwords  \n",
              "0             [way, plug, us, unless, go, converter]  \n",
              "1                     [good, case, excellent, value]  \n",
              "2                                   [great, jawbone]  \n",
              "3  [tied, charger, conversations, lasting, 45, mi...  \n",
              "4                                       [mic, great]  \n",
              "5  [jiggle, plug, get, line, right, get, decent, ...  \n",
              "6  [several, dozen, several, hundred, contacts, i...  \n",
              "7                             [razr, owneryou, must]  \n",
              "8                     [needless, say, wasted, money]  \n",
              "9                               [waste, money, time]  "
            ]
          },
          "execution_count": 217,
          "metadata": {},
          "output_type": "execute_result"
        }
      ],
      "source": [
        "# Define and remove English stopwords\n",
        "stopwords_english = nltk.corpus.stopwords.words('english')\n",
        "\n",
        "def remove_stopwords(tokenized_list):\n",
        "    text = [word for word in tokenized_list if word not in stopwords_english]\n",
        "    return text\n",
        "\n",
        "df['Comment_nostopwords'] = df['Comment_tokenized'].apply(lambda x : remove_stopwords(x))\n",
        "df.head(10)"
      ]
    },
    {
      "cell_type": "code",
      "execution_count": 218,
      "metadata": {
        "colab": {
          "base_uri": "https://localhost:8080/",
          "height": 641
        },
        "id": "EciHzo_Ie9E0",
        "outputId": "fe22e92b-83fe-44ec-bf51-8502bc027cb0"
      },
      "outputs": [
        {
          "data": {
            "text/html": [
              "<div>\n",
              "<style scoped>\n",
              "    .dataframe tbody tr th:only-of-type {\n",
              "        vertical-align: middle;\n",
              "    }\n",
              "\n",
              "    .dataframe tbody tr th {\n",
              "        vertical-align: top;\n",
              "    }\n",
              "\n",
              "    .dataframe thead th {\n",
              "        text-align: right;\n",
              "    }\n",
              "</style>\n",
              "<table border=\"1\" class=\"dataframe\">\n",
              "  <thead>\n",
              "    <tr style=\"text-align: right;\">\n",
              "      <th></th>\n",
              "      <th>Comment</th>\n",
              "      <th>label</th>\n",
              "      <th>Comment_nopunct</th>\n",
              "      <th>Comment_tokenized</th>\n",
              "      <th>Comment_nostopwords</th>\n",
              "      <th>Comment_lemmatized</th>\n",
              "    </tr>\n",
              "  </thead>\n",
              "  <tbody>\n",
              "    <tr>\n",
              "      <th>0</th>\n",
              "      <td>So there is no way for me to plug it in here i...</td>\n",
              "      <td>0</td>\n",
              "      <td>so there is no way for me to plug it in here i...</td>\n",
              "      <td>[so, there, is, no, way, for, me, to, plug, it...</td>\n",
              "      <td>[way, plug, us, unless, go, converter]</td>\n",
              "      <td>[way, plug, u, unless, go, converter]</td>\n",
              "    </tr>\n",
              "    <tr>\n",
              "      <th>1</th>\n",
              "      <td>Good case, Excellent value.</td>\n",
              "      <td>1</td>\n",
              "      <td>good case excellent value</td>\n",
              "      <td>[good, case, excellent, value]</td>\n",
              "      <td>[good, case, excellent, value]</td>\n",
              "      <td>[good, case, excellent, value]</td>\n",
              "    </tr>\n",
              "    <tr>\n",
              "      <th>2</th>\n",
              "      <td>Great for the jawbone.</td>\n",
              "      <td>1</td>\n",
              "      <td>great for the jawbone</td>\n",
              "      <td>[great, for, the, jawbone]</td>\n",
              "      <td>[great, jawbone]</td>\n",
              "      <td>[great, jawbone]</td>\n",
              "    </tr>\n",
              "    <tr>\n",
              "      <th>3</th>\n",
              "      <td>Tied to charger for conversations lasting more...</td>\n",
              "      <td>0</td>\n",
              "      <td>tied to charger for conversations lasting more...</td>\n",
              "      <td>[tied, to, charger, for, conversations, lastin...</td>\n",
              "      <td>[tied, charger, conversations, lasting, 45, mi...</td>\n",
              "      <td>[tied, charger, conversation, lasting, 45, min...</td>\n",
              "    </tr>\n",
              "    <tr>\n",
              "      <th>4</th>\n",
              "      <td>The mic is great.</td>\n",
              "      <td>1</td>\n",
              "      <td>the mic is great</td>\n",
              "      <td>[the, mic, is, great]</td>\n",
              "      <td>[mic, great]</td>\n",
              "      <td>[mic, great]</td>\n",
              "    </tr>\n",
              "    <tr>\n",
              "      <th>5</th>\n",
              "      <td>I have to jiggle the plug to get it to line up...</td>\n",
              "      <td>0</td>\n",
              "      <td>i have to jiggle the plug to get it to line up...</td>\n",
              "      <td>[i, have, to, jiggle, the, plug, to, get, it, ...</td>\n",
              "      <td>[jiggle, plug, get, line, right, get, decent, ...</td>\n",
              "      <td>[jiggle, plug, get, line, right, get, decent, ...</td>\n",
              "    </tr>\n",
              "    <tr>\n",
              "      <th>6</th>\n",
              "      <td>If you have several dozen or several hundred c...</td>\n",
              "      <td>0</td>\n",
              "      <td>if you have several dozen or several hundred c...</td>\n",
              "      <td>[if, you, have, several, dozen, or, several, h...</td>\n",
              "      <td>[several, dozen, several, hundred, contacts, i...</td>\n",
              "      <td>[several, dozen, several, hundred, contact, im...</td>\n",
              "    </tr>\n",
              "    <tr>\n",
              "      <th>7</th>\n",
              "      <td>If you are Razr owner...you must have this!</td>\n",
              "      <td>1</td>\n",
              "      <td>if you are razr owneryou must have this</td>\n",
              "      <td>[if, you, are, razr, owneryou, must, have, this]</td>\n",
              "      <td>[razr, owneryou, must]</td>\n",
              "      <td>[razr, owneryou, must]</td>\n",
              "    </tr>\n",
              "    <tr>\n",
              "      <th>8</th>\n",
              "      <td>Needless to say, I wasted my money.</td>\n",
              "      <td>0</td>\n",
              "      <td>needless to say i wasted my money</td>\n",
              "      <td>[needless, to, say, i, wasted, my, money]</td>\n",
              "      <td>[needless, say, wasted, money]</td>\n",
              "      <td>[needle, say, wasted, money]</td>\n",
              "    </tr>\n",
              "    <tr>\n",
              "      <th>9</th>\n",
              "      <td>What a waste of money and time!.</td>\n",
              "      <td>0</td>\n",
              "      <td>what a waste of money and time</td>\n",
              "      <td>[what, a, waste, of, money, and, time]</td>\n",
              "      <td>[waste, money, time]</td>\n",
              "      <td>[waste, money, time]</td>\n",
              "    </tr>\n",
              "  </tbody>\n",
              "</table>\n",
              "</div>"
            ],
            "text/plain": [
              "                                             Comment  label  \\\n",
              "0  So there is no way for me to plug it in here i...      0   \n",
              "1                        Good case, Excellent value.      1   \n",
              "2                             Great for the jawbone.      1   \n",
              "3  Tied to charger for conversations lasting more...      0   \n",
              "4                                  The mic is great.      1   \n",
              "5  I have to jiggle the plug to get it to line up...      0   \n",
              "6  If you have several dozen or several hundred c...      0   \n",
              "7        If you are Razr owner...you must have this!      1   \n",
              "8                Needless to say, I wasted my money.      0   \n",
              "9                   What a waste of money and time!.      0   \n",
              "\n",
              "                                     Comment_nopunct  \\\n",
              "0  so there is no way for me to plug it in here i...   \n",
              "1                          good case excellent value   \n",
              "2                              great for the jawbone   \n",
              "3  tied to charger for conversations lasting more...   \n",
              "4                                   the mic is great   \n",
              "5  i have to jiggle the plug to get it to line up...   \n",
              "6  if you have several dozen or several hundred c...   \n",
              "7            if you are razr owneryou must have this   \n",
              "8                  needless to say i wasted my money   \n",
              "9                     what a waste of money and time   \n",
              "\n",
              "                                   Comment_tokenized  \\\n",
              "0  [so, there, is, no, way, for, me, to, plug, it...   \n",
              "1                     [good, case, excellent, value]   \n",
              "2                         [great, for, the, jawbone]   \n",
              "3  [tied, to, charger, for, conversations, lastin...   \n",
              "4                              [the, mic, is, great]   \n",
              "5  [i, have, to, jiggle, the, plug, to, get, it, ...   \n",
              "6  [if, you, have, several, dozen, or, several, h...   \n",
              "7   [if, you, are, razr, owneryou, must, have, this]   \n",
              "8          [needless, to, say, i, wasted, my, money]   \n",
              "9             [what, a, waste, of, money, and, time]   \n",
              "\n",
              "                                 Comment_nostopwords  \\\n",
              "0             [way, plug, us, unless, go, converter]   \n",
              "1                     [good, case, excellent, value]   \n",
              "2                                   [great, jawbone]   \n",
              "3  [tied, charger, conversations, lasting, 45, mi...   \n",
              "4                                       [mic, great]   \n",
              "5  [jiggle, plug, get, line, right, get, decent, ...   \n",
              "6  [several, dozen, several, hundred, contacts, i...   \n",
              "7                             [razr, owneryou, must]   \n",
              "8                     [needless, say, wasted, money]   \n",
              "9                               [waste, money, time]   \n",
              "\n",
              "                                  Comment_lemmatized  \n",
              "0              [way, plug, u, unless, go, converter]  \n",
              "1                     [good, case, excellent, value]  \n",
              "2                                   [great, jawbone]  \n",
              "3  [tied, charger, conversation, lasting, 45, min...  \n",
              "4                                       [mic, great]  \n",
              "5  [jiggle, plug, get, line, right, get, decent, ...  \n",
              "6  [several, dozen, several, hundred, contact, im...  \n",
              "7                             [razr, owneryou, must]  \n",
              "8                       [needle, say, wasted, money]  \n",
              "9                               [waste, money, time]  "
            ]
          },
          "execution_count": 218,
          "metadata": {},
          "output_type": "execute_result"
        }
      ],
      "source": [
        "# Lemmatize the words\n",
        "wn = nltk.WordNetLemmatizer()\n",
        "def lemmatizing(tokenized_text):\n",
        "    text = [wn.lemmatize(word) for word in tokenized_text]\n",
        "    return text\n",
        "\n",
        "df['Comment_lemmatized'] = df['Comment_nostopwords'].apply(lambda x : lemmatizing(x))\n",
        "\n",
        "df.head(10)"
      ]
    },
    {
      "cell_type": "code",
      "execution_count": 219,
      "metadata": {
        "colab": {
          "base_uri": "https://localhost:8080/",
          "height": 424
        },
        "id": "YqGf21w7mDpO",
        "outputId": "238282ee-f5e9-4572-c3ab-b54840eec6a2"
      },
      "outputs": [
        {
          "data": {
            "text/html": [
              "<div>\n",
              "<style scoped>\n",
              "    .dataframe tbody tr th:only-of-type {\n",
              "        vertical-align: middle;\n",
              "    }\n",
              "\n",
              "    .dataframe tbody tr th {\n",
              "        vertical-align: top;\n",
              "    }\n",
              "\n",
              "    .dataframe thead th {\n",
              "        text-align: right;\n",
              "    }\n",
              "</style>\n",
              "<table border=\"1\" class=\"dataframe\">\n",
              "  <thead>\n",
              "    <tr style=\"text-align: right;\">\n",
              "      <th></th>\n",
              "      <th>label</th>\n",
              "      <th>Comment</th>\n",
              "      <th>Comment_lemmatized</th>\n",
              "    </tr>\n",
              "  </thead>\n",
              "  <tbody>\n",
              "    <tr>\n",
              "      <th>0</th>\n",
              "      <td>0</td>\n",
              "      <td>So there is no way for me to plug it in here i...</td>\n",
              "      <td>[way, plug, u, unless, go, converter]</td>\n",
              "    </tr>\n",
              "    <tr>\n",
              "      <th>1</th>\n",
              "      <td>1</td>\n",
              "      <td>Good case, Excellent value.</td>\n",
              "      <td>[good, case, excellent, value]</td>\n",
              "    </tr>\n",
              "    <tr>\n",
              "      <th>2</th>\n",
              "      <td>1</td>\n",
              "      <td>Great for the jawbone.</td>\n",
              "      <td>[great, jawbone]</td>\n",
              "    </tr>\n",
              "    <tr>\n",
              "      <th>3</th>\n",
              "      <td>0</td>\n",
              "      <td>Tied to charger for conversations lasting more...</td>\n",
              "      <td>[tied, charger, conversation, lasting, 45, min...</td>\n",
              "    </tr>\n",
              "    <tr>\n",
              "      <th>4</th>\n",
              "      <td>1</td>\n",
              "      <td>The mic is great.</td>\n",
              "      <td>[mic, great]</td>\n",
              "    </tr>\n",
              "    <tr>\n",
              "      <th>...</th>\n",
              "      <td>...</td>\n",
              "      <td>...</td>\n",
              "      <td>...</td>\n",
              "    </tr>\n",
              "    <tr>\n",
              "      <th>995</th>\n",
              "      <td>0</td>\n",
              "      <td>The screen does get smudged easily because it ...</td>\n",
              "      <td>[screen, get, smudged, easily, touch, ear, face]</td>\n",
              "    </tr>\n",
              "    <tr>\n",
              "      <th>996</th>\n",
              "      <td>0</td>\n",
              "      <td>What a piece of junk.. I lose more calls on th...</td>\n",
              "      <td>[piece, junk, lose, call, phone]</td>\n",
              "    </tr>\n",
              "    <tr>\n",
              "      <th>997</th>\n",
              "      <td>0</td>\n",
              "      <td>Item Does Not Match Picture.</td>\n",
              "      <td>[item, match, picture]</td>\n",
              "    </tr>\n",
              "    <tr>\n",
              "      <th>998</th>\n",
              "      <td>0</td>\n",
              "      <td>The only thing that disappoint me is the infra...</td>\n",
              "      <td>[thing, disappoint, infra, red, port, irda]</td>\n",
              "    </tr>\n",
              "    <tr>\n",
              "      <th>999</th>\n",
              "      <td>0</td>\n",
              "      <td>You can not answer calls with the unit, never ...</td>\n",
              "      <td>[answer, call, unit, never, worked]</td>\n",
              "    </tr>\n",
              "  </tbody>\n",
              "</table>\n",
              "<p>1000 rows × 3 columns</p>\n",
              "</div>"
            ],
            "text/plain": [
              "     label                                            Comment  \\\n",
              "0        0  So there is no way for me to plug it in here i...   \n",
              "1        1                        Good case, Excellent value.   \n",
              "2        1                             Great for the jawbone.   \n",
              "3        0  Tied to charger for conversations lasting more...   \n",
              "4        1                                  The mic is great.   \n",
              "..     ...                                                ...   \n",
              "995      0  The screen does get smudged easily because it ...   \n",
              "996      0  What a piece of junk.. I lose more calls on th...   \n",
              "997      0                       Item Does Not Match Picture.   \n",
              "998      0  The only thing that disappoint me is the infra...   \n",
              "999      0  You can not answer calls with the unit, never ...   \n",
              "\n",
              "                                    Comment_lemmatized  \n",
              "0                [way, plug, u, unless, go, converter]  \n",
              "1                       [good, case, excellent, value]  \n",
              "2                                     [great, jawbone]  \n",
              "3    [tied, charger, conversation, lasting, 45, min...  \n",
              "4                                         [mic, great]  \n",
              "..                                                 ...  \n",
              "995   [screen, get, smudged, easily, touch, ear, face]  \n",
              "996                   [piece, junk, lose, call, phone]  \n",
              "997                             [item, match, picture]  \n",
              "998        [thing, disappoint, infra, red, port, irda]  \n",
              "999                [answer, call, unit, never, worked]  \n",
              "\n",
              "[1000 rows x 3 columns]"
            ]
          },
          "execution_count": 219,
          "metadata": {},
          "output_type": "execute_result"
        }
      ],
      "source": [
        "df1=df[[\"label\",\"Comment\",\"Comment_lemmatized\"]]\n",
        "df1"
      ]
    },
    {
      "cell_type": "code",
      "execution_count": 220,
      "metadata": {
        "colab": {
          "base_uri": "https://localhost:8080/",
          "height": 424
        },
        "id": "uB5ZRu0r5NMk",
        "outputId": "dec9f357-5d5c-4ba2-ec02-da97bd1dd93f"
      },
      "outputs": [
        {
          "data": {
            "text/html": [
              "<div>\n",
              "<style scoped>\n",
              "    .dataframe tbody tr th:only-of-type {\n",
              "        vertical-align: middle;\n",
              "    }\n",
              "\n",
              "    .dataframe tbody tr th {\n",
              "        vertical-align: top;\n",
              "    }\n",
              "\n",
              "    .dataframe thead th {\n",
              "        text-align: right;\n",
              "    }\n",
              "</style>\n",
              "<table border=\"1\" class=\"dataframe\">\n",
              "  <thead>\n",
              "    <tr style=\"text-align: right;\">\n",
              "      <th></th>\n",
              "      <th>label</th>\n",
              "      <th>Comment</th>\n",
              "      <th>Comment_sentences</th>\n",
              "    </tr>\n",
              "  </thead>\n",
              "  <tbody>\n",
              "    <tr>\n",
              "      <th>0</th>\n",
              "      <td>0</td>\n",
              "      <td>So there is no way for me to plug it in here i...</td>\n",
              "      <td>way plug u unless go converter</td>\n",
              "    </tr>\n",
              "    <tr>\n",
              "      <th>1</th>\n",
              "      <td>1</td>\n",
              "      <td>Good case, Excellent value.</td>\n",
              "      <td>good case excellent value</td>\n",
              "    </tr>\n",
              "    <tr>\n",
              "      <th>2</th>\n",
              "      <td>1</td>\n",
              "      <td>Great for the jawbone.</td>\n",
              "      <td>great jawbone</td>\n",
              "    </tr>\n",
              "    <tr>\n",
              "      <th>3</th>\n",
              "      <td>0</td>\n",
              "      <td>Tied to charger for conversations lasting more...</td>\n",
              "      <td>tied charger conversation lasting 45 minutesma...</td>\n",
              "    </tr>\n",
              "    <tr>\n",
              "      <th>4</th>\n",
              "      <td>1</td>\n",
              "      <td>The mic is great.</td>\n",
              "      <td>mic great</td>\n",
              "    </tr>\n",
              "    <tr>\n",
              "      <th>...</th>\n",
              "      <td>...</td>\n",
              "      <td>...</td>\n",
              "      <td>...</td>\n",
              "    </tr>\n",
              "    <tr>\n",
              "      <th>995</th>\n",
              "      <td>0</td>\n",
              "      <td>The screen does get smudged easily because it ...</td>\n",
              "      <td>screen get smudged easily touch ear face</td>\n",
              "    </tr>\n",
              "    <tr>\n",
              "      <th>996</th>\n",
              "      <td>0</td>\n",
              "      <td>What a piece of junk.. I lose more calls on th...</td>\n",
              "      <td>piece junk lose call phone</td>\n",
              "    </tr>\n",
              "    <tr>\n",
              "      <th>997</th>\n",
              "      <td>0</td>\n",
              "      <td>Item Does Not Match Picture.</td>\n",
              "      <td>item match picture</td>\n",
              "    </tr>\n",
              "    <tr>\n",
              "      <th>998</th>\n",
              "      <td>0</td>\n",
              "      <td>The only thing that disappoint me is the infra...</td>\n",
              "      <td>thing disappoint infra red port irda</td>\n",
              "    </tr>\n",
              "    <tr>\n",
              "      <th>999</th>\n",
              "      <td>0</td>\n",
              "      <td>You can not answer calls with the unit, never ...</td>\n",
              "      <td>answer call unit never worked</td>\n",
              "    </tr>\n",
              "  </tbody>\n",
              "</table>\n",
              "<p>1000 rows × 3 columns</p>\n",
              "</div>"
            ],
            "text/plain": [
              "     label                                            Comment  \\\n",
              "0        0  So there is no way for me to plug it in here i...   \n",
              "1        1                        Good case, Excellent value.   \n",
              "2        1                             Great for the jawbone.   \n",
              "3        0  Tied to charger for conversations lasting more...   \n",
              "4        1                                  The mic is great.   \n",
              "..     ...                                                ...   \n",
              "995      0  The screen does get smudged easily because it ...   \n",
              "996      0  What a piece of junk.. I lose more calls on th...   \n",
              "997      0                       Item Does Not Match Picture.   \n",
              "998      0  The only thing that disappoint me is the infra...   \n",
              "999      0  You can not answer calls with the unit, never ...   \n",
              "\n",
              "                                     Comment_sentences  \n",
              "0                       way plug u unless go converter  \n",
              "1                            good case excellent value  \n",
              "2                                        great jawbone  \n",
              "3    tied charger conversation lasting 45 minutesma...  \n",
              "4                                            mic great  \n",
              "..                                                 ...  \n",
              "995           screen get smudged easily touch ear face  \n",
              "996                         piece junk lose call phone  \n",
              "997                                 item match picture  \n",
              "998               thing disappoint infra red port irda  \n",
              "999                      answer call unit never worked  \n",
              "\n",
              "[1000 rows x 3 columns]"
            ]
          },
          "execution_count": 220,
          "metadata": {},
          "output_type": "execute_result"
        }
      ],
      "source": [
        "df2=df1[[\"label\",\"Comment\"]]\n",
        "df2['Comment_sentences'] = df1['Comment_lemmatized'].apply(lambda x: ' '.join(x))\n",
        "df2"
      ]
    },
    {
      "cell_type": "code",
      "execution_count": 221,
      "metadata": {
        "colab": {
          "base_uri": "https://localhost:8080/"
        },
        "id": "9Kh9vZOx6Vy6",
        "outputId": "a6b22a6e-bf50-4de0-a186-8c77ff1d8c2e"
      },
      "outputs": [
        {
          "name": "stdout",
          "output_type": "stream",
          "text": [
            "Sparse Matrix Shape:  (1000, 1665)\n",
            "     10  100  11  12  13  15  18  20  2000  2005  ...  wrongfirst  year  \\\n",
            "0     0    0   0   0   0   0   0   0     0     0  ...           0     0   \n",
            "1     0    0   0   0   0   0   0   0     0     0  ...           0     0   \n",
            "2     0    0   0   0   0   0   0   0     0     0  ...           0     0   \n",
            "3     0    0   0   0   0   0   0   0     0     0  ...           0     0   \n",
            "4     0    0   0   0   0   0   0   0     0     0  ...           0     0   \n",
            "..   ..  ...  ..  ..  ..  ..  ..  ..   ...   ...  ...         ...   ...   \n",
            "995   0    0   0   0   0   0   0   0     0     0  ...           0     0   \n",
            "996   0    0   0   0   0   0   0   0     0     0  ...           0     0   \n",
            "997   0    0   0   0   0   0   0   0     0     0  ...           0     0   \n",
            "998   0    0   0   0   0   0   0   0     0     0  ...           0     0   \n",
            "999   0    0   0   0   0   0   0   0     0     0  ...           0     0   \n",
            "\n",
            "     yearsgreat  yell  yes  yet  youd  youll  z500a  zero  \n",
            "0             0     0    0    0     0      0      0     0  \n",
            "1             0     0    0    0     0      0      0     0  \n",
            "2             0     0    0    0     0      0      0     0  \n",
            "3             0     0    0    0     0      0      0     0  \n",
            "4             0     0    0    0     0      0      0     0  \n",
            "..          ...   ...  ...  ...   ...    ...    ...   ...  \n",
            "995           0     0    0    0     0      0      0     0  \n",
            "996           0     0    0    0     0      0      0     0  \n",
            "997           0     0    0    0     0      0      0     0  \n",
            "998           0     0    0    0     0      0      0     0  \n",
            "999           0     0    0    0     0      0      0     0  \n",
            "\n",
            "[1000 rows x 1665 columns]\n"
          ]
        }
      ],
      "source": [
        "vectorizer = CountVectorizer()\n",
        "features_cv = vectorizer.fit_transform(df2['Comment_sentences'])\n",
        "print(\"Sparse Matrix Shape: \", features_cv.shape)\n",
        "\n",
        "# If you want to create a DataFrame with the counts\n",
        "features_cv_df = pd.DataFrame(features_cv.toarray(), columns=vectorizer.get_feature_names_out())\n",
        "print(features_cv_df)"
      ]
    },
    {
      "cell_type": "code",
      "execution_count": 222,
      "metadata": {
        "colab": {
          "base_uri": "https://localhost:8080/",
          "height": 510
        },
        "id": "B7848Jyu60Nn",
        "outputId": "2875b806-7e7c-4f84-8d7a-74ba10d71353"
      },
      "outputs": [
        {
          "data": {
            "text/html": [
              "<div>\n",
              "<style scoped>\n",
              "    .dataframe tbody tr th:only-of-type {\n",
              "        vertical-align: middle;\n",
              "    }\n",
              "\n",
              "    .dataframe tbody tr th {\n",
              "        vertical-align: top;\n",
              "    }\n",
              "\n",
              "    .dataframe thead th {\n",
              "        text-align: right;\n",
              "    }\n",
              "</style>\n",
              "<table border=\"1\" class=\"dataframe\">\n",
              "  <thead>\n",
              "    <tr style=\"text-align: right;\">\n",
              "      <th></th>\n",
              "      <th>label</th>\n",
              "      <th>Comment</th>\n",
              "      <th>Comment_sentences</th>\n",
              "      <th>Comment_length</th>\n",
              "      <th>puncts</th>\n",
              "    </tr>\n",
              "  </thead>\n",
              "  <tbody>\n",
              "    <tr>\n",
              "      <th>0</th>\n",
              "      <td>0</td>\n",
              "      <td>So there is no way for me to plug it in here i...</td>\n",
              "      <td>way plug u unless go converter</td>\n",
              "      <td>82</td>\n",
              "      <td>0.012195</td>\n",
              "    </tr>\n",
              "    <tr>\n",
              "      <th>1</th>\n",
              "      <td>1</td>\n",
              "      <td>Good case, Excellent value.</td>\n",
              "      <td>good case excellent value</td>\n",
              "      <td>27</td>\n",
              "      <td>0.074074</td>\n",
              "    </tr>\n",
              "    <tr>\n",
              "      <th>2</th>\n",
              "      <td>1</td>\n",
              "      <td>Great for the jawbone.</td>\n",
              "      <td>great jawbone</td>\n",
              "      <td>22</td>\n",
              "      <td>0.045455</td>\n",
              "    </tr>\n",
              "    <tr>\n",
              "      <th>3</th>\n",
              "      <td>0</td>\n",
              "      <td>Tied to charger for conversations lasting more...</td>\n",
              "      <td>tied charger conversation lasting 45 minutesma...</td>\n",
              "      <td>79</td>\n",
              "      <td>0.037975</td>\n",
              "    </tr>\n",
              "    <tr>\n",
              "      <th>4</th>\n",
              "      <td>1</td>\n",
              "      <td>The mic is great.</td>\n",
              "      <td>mic great</td>\n",
              "      <td>17</td>\n",
              "      <td>0.058824</td>\n",
              "    </tr>\n",
              "    <tr>\n",
              "      <th>...</th>\n",
              "      <td>...</td>\n",
              "      <td>...</td>\n",
              "      <td>...</td>\n",
              "      <td>...</td>\n",
              "      <td>...</td>\n",
              "    </tr>\n",
              "    <tr>\n",
              "      <th>995</th>\n",
              "      <td>0</td>\n",
              "      <td>The screen does get smudged easily because it ...</td>\n",
              "      <td>screen get smudged easily touch ear face</td>\n",
              "      <td>72</td>\n",
              "      <td>0.013889</td>\n",
              "    </tr>\n",
              "    <tr>\n",
              "      <th>996</th>\n",
              "      <td>0</td>\n",
              "      <td>What a piece of junk.. I lose more calls on th...</td>\n",
              "      <td>piece junk lose call phone</td>\n",
              "      <td>55</td>\n",
              "      <td>0.054545</td>\n",
              "    </tr>\n",
              "    <tr>\n",
              "      <th>997</th>\n",
              "      <td>0</td>\n",
              "      <td>Item Does Not Match Picture.</td>\n",
              "      <td>item match picture</td>\n",
              "      <td>28</td>\n",
              "      <td>0.035714</td>\n",
              "    </tr>\n",
              "    <tr>\n",
              "      <th>998</th>\n",
              "      <td>0</td>\n",
              "      <td>The only thing that disappoint me is the infra...</td>\n",
              "      <td>thing disappoint infra red port irda</td>\n",
              "      <td>63</td>\n",
              "      <td>0.047619</td>\n",
              "    </tr>\n",
              "    <tr>\n",
              "      <th>999</th>\n",
              "      <td>0</td>\n",
              "      <td>You can not answer calls with the unit, never ...</td>\n",
              "      <td>answer call unit never worked</td>\n",
              "      <td>58</td>\n",
              "      <td>0.034483</td>\n",
              "    </tr>\n",
              "  </tbody>\n",
              "</table>\n",
              "<p>1000 rows × 5 columns</p>\n",
              "</div>"
            ],
            "text/plain": [
              "     label                                            Comment  \\\n",
              "0        0  So there is no way for me to plug it in here i...   \n",
              "1        1                        Good case, Excellent value.   \n",
              "2        1                             Great for the jawbone.   \n",
              "3        0  Tied to charger for conversations lasting more...   \n",
              "4        1                                  The mic is great.   \n",
              "..     ...                                                ...   \n",
              "995      0  The screen does get smudged easily because it ...   \n",
              "996      0  What a piece of junk.. I lose more calls on th...   \n",
              "997      0                       Item Does Not Match Picture.   \n",
              "998      0  The only thing that disappoint me is the infra...   \n",
              "999      0  You can not answer calls with the unit, never ...   \n",
              "\n",
              "                                     Comment_sentences  Comment_length  \\\n",
              "0                       way plug u unless go converter              82   \n",
              "1                            good case excellent value              27   \n",
              "2                                        great jawbone              22   \n",
              "3    tied charger conversation lasting 45 minutesma...              79   \n",
              "4                                            mic great              17   \n",
              "..                                                 ...             ...   \n",
              "995           screen get smudged easily touch ear face              72   \n",
              "996                         piece junk lose call phone              55   \n",
              "997                                 item match picture              28   \n",
              "998               thing disappoint infra red port irda              63   \n",
              "999                      answer call unit never worked              58   \n",
              "\n",
              "       puncts  \n",
              "0    0.012195  \n",
              "1    0.074074  \n",
              "2    0.045455  \n",
              "3    0.037975  \n",
              "4    0.058824  \n",
              "..        ...  \n",
              "995  0.013889  \n",
              "996  0.054545  \n",
              "997  0.035714  \n",
              "998  0.047619  \n",
              "999  0.034483  \n",
              "\n",
              "[1000 rows x 5 columns]"
            ]
          },
          "execution_count": 222,
          "metadata": {},
          "output_type": "execute_result"
        }
      ],
      "source": [
        "# Feature extraction\n",
        "df2['Comment_length'] = df1['Comment'].apply(lambda x : len(x))  # Length of the comment\n",
        "def count_punct(text):\n",
        "    if len(text) == 0:\n",
        "        return 0\n",
        "    else:\n",
        "        count = sum([1 for char in text if char in string.punctuation])\n",
        "        return count / len(text)\n",
        "\n",
        "df2['puncts'] = df2['Comment'].apply(count_punct)\n",
        "df2"
      ]
    },
    {
      "cell_type": "code",
      "execution_count": 223,
      "metadata": {
        "colab": {
          "base_uri": "https://localhost:8080/",
          "height": 528
        },
        "id": "fY_hz39Fi1uu",
        "outputId": "3285d164-a7cb-4844-c85c-df81a66b5f39"
      },
      "outputs": [
        {
          "data": {
            "text/html": [
              "<div>\n",
              "<style scoped>\n",
              "    .dataframe tbody tr th:only-of-type {\n",
              "        vertical-align: middle;\n",
              "    }\n",
              "\n",
              "    .dataframe tbody tr th {\n",
              "        vertical-align: top;\n",
              "    }\n",
              "\n",
              "    .dataframe thead th {\n",
              "        text-align: right;\n",
              "    }\n",
              "</style>\n",
              "<table border=\"1\" class=\"dataframe\">\n",
              "  <thead>\n",
              "    <tr style=\"text-align: right;\">\n",
              "      <th></th>\n",
              "      <th>label</th>\n",
              "      <th>Comment</th>\n",
              "      <th>Comment_sentences</th>\n",
              "      <th>Comment_length</th>\n",
              "      <th>puncts</th>\n",
              "      <th>Word_count</th>\n",
              "    </tr>\n",
              "  </thead>\n",
              "  <tbody>\n",
              "    <tr>\n",
              "      <th>0</th>\n",
              "      <td>0</td>\n",
              "      <td>So there is no way for me to plug it in here i...</td>\n",
              "      <td>way plug u unless go converter</td>\n",
              "      <td>82</td>\n",
              "      <td>0.012195</td>\n",
              "      <td>21</td>\n",
              "    </tr>\n",
              "    <tr>\n",
              "      <th>1</th>\n",
              "      <td>1</td>\n",
              "      <td>Good case, Excellent value.</td>\n",
              "      <td>good case excellent value</td>\n",
              "      <td>27</td>\n",
              "      <td>0.074074</td>\n",
              "      <td>4</td>\n",
              "    </tr>\n",
              "    <tr>\n",
              "      <th>2</th>\n",
              "      <td>1</td>\n",
              "      <td>Great for the jawbone.</td>\n",
              "      <td>great jawbone</td>\n",
              "      <td>22</td>\n",
              "      <td>0.045455</td>\n",
              "      <td>4</td>\n",
              "    </tr>\n",
              "    <tr>\n",
              "      <th>3</th>\n",
              "      <td>0</td>\n",
              "      <td>Tied to charger for conversations lasting more...</td>\n",
              "      <td>tied charger conversation lasting 45 minutesma...</td>\n",
              "      <td>79</td>\n",
              "      <td>0.037975</td>\n",
              "      <td>11</td>\n",
              "    </tr>\n",
              "    <tr>\n",
              "      <th>4</th>\n",
              "      <td>1</td>\n",
              "      <td>The mic is great.</td>\n",
              "      <td>mic great</td>\n",
              "      <td>17</td>\n",
              "      <td>0.058824</td>\n",
              "      <td>4</td>\n",
              "    </tr>\n",
              "    <tr>\n",
              "      <th>...</th>\n",
              "      <td>...</td>\n",
              "      <td>...</td>\n",
              "      <td>...</td>\n",
              "      <td>...</td>\n",
              "      <td>...</td>\n",
              "      <td>...</td>\n",
              "    </tr>\n",
              "    <tr>\n",
              "      <th>995</th>\n",
              "      <td>0</td>\n",
              "      <td>The screen does get smudged easily because it ...</td>\n",
              "      <td>screen get smudged easily touch ear face</td>\n",
              "      <td>72</td>\n",
              "      <td>0.013889</td>\n",
              "      <td>13</td>\n",
              "    </tr>\n",
              "    <tr>\n",
              "      <th>996</th>\n",
              "      <td>0</td>\n",
              "      <td>What a piece of junk.. I lose more calls on th...</td>\n",
              "      <td>piece junk lose call phone</td>\n",
              "      <td>55</td>\n",
              "      <td>0.054545</td>\n",
              "      <td>12</td>\n",
              "    </tr>\n",
              "    <tr>\n",
              "      <th>997</th>\n",
              "      <td>0</td>\n",
              "      <td>Item Does Not Match Picture.</td>\n",
              "      <td>item match picture</td>\n",
              "      <td>28</td>\n",
              "      <td>0.035714</td>\n",
              "      <td>5</td>\n",
              "    </tr>\n",
              "    <tr>\n",
              "      <th>998</th>\n",
              "      <td>0</td>\n",
              "      <td>The only thing that disappoint me is the infra...</td>\n",
              "      <td>thing disappoint infra red port irda</td>\n",
              "      <td>63</td>\n",
              "      <td>0.047619</td>\n",
              "      <td>12</td>\n",
              "    </tr>\n",
              "    <tr>\n",
              "      <th>999</th>\n",
              "      <td>0</td>\n",
              "      <td>You can not answer calls with the unit, never ...</td>\n",
              "      <td>answer call unit never worked</td>\n",
              "      <td>58</td>\n",
              "      <td>0.034483</td>\n",
              "      <td>11</td>\n",
              "    </tr>\n",
              "  </tbody>\n",
              "</table>\n",
              "<p>1000 rows × 6 columns</p>\n",
              "</div>"
            ],
            "text/plain": [
              "     label                                            Comment  \\\n",
              "0        0  So there is no way for me to plug it in here i...   \n",
              "1        1                        Good case, Excellent value.   \n",
              "2        1                             Great for the jawbone.   \n",
              "3        0  Tied to charger for conversations lasting more...   \n",
              "4        1                                  The mic is great.   \n",
              "..     ...                                                ...   \n",
              "995      0  The screen does get smudged easily because it ...   \n",
              "996      0  What a piece of junk.. I lose more calls on th...   \n",
              "997      0                       Item Does Not Match Picture.   \n",
              "998      0  The only thing that disappoint me is the infra...   \n",
              "999      0  You can not answer calls with the unit, never ...   \n",
              "\n",
              "                                     Comment_sentences  Comment_length  \\\n",
              "0                       way plug u unless go converter              82   \n",
              "1                            good case excellent value              27   \n",
              "2                                        great jawbone              22   \n",
              "3    tied charger conversation lasting 45 minutesma...              79   \n",
              "4                                            mic great              17   \n",
              "..                                                 ...             ...   \n",
              "995           screen get smudged easily touch ear face              72   \n",
              "996                         piece junk lose call phone              55   \n",
              "997                                 item match picture              28   \n",
              "998               thing disappoint infra red port irda              63   \n",
              "999                      answer call unit never worked              58   \n",
              "\n",
              "       puncts  Word_count  \n",
              "0    0.012195          21  \n",
              "1    0.074074           4  \n",
              "2    0.045455           4  \n",
              "3    0.037975          11  \n",
              "4    0.058824           4  \n",
              "..        ...         ...  \n",
              "995  0.013889          13  \n",
              "996  0.054545          12  \n",
              "997  0.035714           5  \n",
              "998  0.047619          12  \n",
              "999  0.034483          11  \n",
              "\n",
              "[1000 rows x 6 columns]"
            ]
          },
          "execution_count": 223,
          "metadata": {},
          "output_type": "execute_result"
        }
      ],
      "source": [
        "def calculate_word_count(text):\n",
        "    # Split the text into words and count them\n",
        "    words = text.split()\n",
        "    return len(words)\n",
        "\n",
        "def count_unique_words(text):\n",
        "    words = text.split()\n",
        "    return len(set(words))\n",
        "\n",
        "# Add Word_count column\n",
        "df2['Word_count'] = df2['Comment'].apply(calculate_word_count)\n",
        "df2"
      ]
    },
    {
      "cell_type": "code",
      "execution_count": 224,
      "metadata": {
        "colab": {
          "base_uri": "https://localhost:8080/",
          "height": 241
        },
        "id": "WWkR6vAbm-lK",
        "outputId": "b4f33776-45f3-46eb-db8b-39e02e8c54e1"
      },
      "outputs": [
        {
          "data": {
            "text/html": [
              "<div>\n",
              "<style scoped>\n",
              "    .dataframe tbody tr th:only-of-type {\n",
              "        vertical-align: middle;\n",
              "    }\n",
              "\n",
              "    .dataframe tbody tr th {\n",
              "        vertical-align: top;\n",
              "    }\n",
              "\n",
              "    .dataframe thead th {\n",
              "        text-align: right;\n",
              "    }\n",
              "</style>\n",
              "<table border=\"1\" class=\"dataframe\">\n",
              "  <thead>\n",
              "    <tr style=\"text-align: right;\">\n",
              "      <th></th>\n",
              "      <th>label</th>\n",
              "      <th>Comment</th>\n",
              "      <th>Comment_sentences</th>\n",
              "      <th>Comment_length</th>\n",
              "      <th>puncts</th>\n",
              "      <th>Word_count</th>\n",
              "    </tr>\n",
              "  </thead>\n",
              "  <tbody>\n",
              "    <tr>\n",
              "      <th>0</th>\n",
              "      <td>0</td>\n",
              "      <td>So there is no way for me to plug it in here i...</td>\n",
              "      <td>way plug u unless go converter</td>\n",
              "      <td>0.773007</td>\n",
              "      <td>-0.930178</td>\n",
              "      <td>1.608851</td>\n",
              "    </tr>\n",
              "    <tr>\n",
              "      <th>1</th>\n",
              "      <td>1</td>\n",
              "      <td>Good case, Excellent value.</td>\n",
              "      <td>good case excellent value</td>\n",
              "      <td>-0.814929</td>\n",
              "      <td>0.833121</td>\n",
              "      <td>-0.934432</td>\n",
              "    </tr>\n",
              "    <tr>\n",
              "      <th>2</th>\n",
              "      <td>1</td>\n",
              "      <td>Great for the jawbone.</td>\n",
              "      <td>great jawbone</td>\n",
              "      <td>-0.959287</td>\n",
              "      <td>0.017581</td>\n",
              "      <td>-0.934432</td>\n",
              "    </tr>\n",
              "    <tr>\n",
              "      <th>3</th>\n",
              "      <td>0</td>\n",
              "      <td>Tied to charger for conversations lasting more...</td>\n",
              "      <td>tied charger conversation lasting 45 minutesma...</td>\n",
              "      <td>0.686393</td>\n",
              "      <td>-0.195565</td>\n",
              "      <td>0.112802</td>\n",
              "    </tr>\n",
              "    <tr>\n",
              "      <th>4</th>\n",
              "      <td>1</td>\n",
              "      <td>The mic is great.</td>\n",
              "      <td>mic great</td>\n",
              "      <td>-1.103645</td>\n",
              "      <td>0.398543</td>\n",
              "      <td>-0.934432</td>\n",
              "    </tr>\n",
              "  </tbody>\n",
              "</table>\n",
              "</div>"
            ],
            "text/plain": [
              "   label                                            Comment  \\\n",
              "0      0  So there is no way for me to plug it in here i...   \n",
              "1      1                        Good case, Excellent value.   \n",
              "2      1                             Great for the jawbone.   \n",
              "3      0  Tied to charger for conversations lasting more...   \n",
              "4      1                                  The mic is great.   \n",
              "\n",
              "                                   Comment_sentences  Comment_length  \\\n",
              "0                     way plug u unless go converter        0.773007   \n",
              "1                          good case excellent value       -0.814929   \n",
              "2                                      great jawbone       -0.959287   \n",
              "3  tied charger conversation lasting 45 minutesma...        0.686393   \n",
              "4                                          mic great       -1.103645   \n",
              "\n",
              "     puncts  Word_count  \n",
              "0 -0.930178    1.608851  \n",
              "1  0.833121   -0.934432  \n",
              "2  0.017581   -0.934432  \n",
              "3 -0.195565    0.112802  \n",
              "4  0.398543   -0.934432  "
            ]
          },
          "execution_count": 224,
          "metadata": {},
          "output_type": "execute_result"
        }
      ],
      "source": [
        "scaler = StandardScaler()\n",
        "num_vars = [\"Comment_length\",\"Word_count\",\"puncts\"]\n",
        "\n",
        "df2[num_vars] = scaler.fit_transform(df2[num_vars])\n",
        "df2.head()"
      ]
    },
    {
      "cell_type": "code",
      "execution_count": 225,
      "metadata": {
        "id": "kI4MMLrbk4_9"
      },
      "outputs": [],
      "source": [
        "target=df2['label']\n",
        "final_df=df2.loc[:,['Comment_length','Word_count','puncts']]\n",
        "final_df = pd.concat([final_df, pd.DataFrame(features_cv_df)], axis=1)\n",
        "final_df.head()\n",
        "# Splitting the dataset into training and testing sets\n",
        "X_train, X_test, y_train, y_test = train_test_split(final_df, target, test_size=0.20)\n"
      ]
    },
    {
      "cell_type": "code",
      "execution_count": 226,
      "metadata": {
        "id": "QE7pRdqFr9xr"
      },
      "outputs": [],
      "source": [
        "# Creating a RandomForestClassifier object with n_jobs=-1 (using all processors)\n",
        "rf_model = RandomForestClassifier(n_jobs=-1)"
      ]
    },
    {
      "cell_type": "code",
      "execution_count": 227,
      "metadata": {
        "colab": {
          "base_uri": "https://localhost:8080/",
          "height": 75
        },
        "id": "2jCjKky6r99l",
        "outputId": "3883744d-3ea7-4e51-bb31-fcf44e457ca3"
      },
      "outputs": [
        {
          "data": {
            "text/html": [
              "<style>#sk-container-id-16 {color: black;background-color: white;}#sk-container-id-16 pre{padding: 0;}#sk-container-id-16 div.sk-toggleable {background-color: white;}#sk-container-id-16 label.sk-toggleable__label {cursor: pointer;display: block;width: 100%;margin-bottom: 0;padding: 0.3em;box-sizing: border-box;text-align: center;}#sk-container-id-16 label.sk-toggleable__label-arrow:before {content: \"▸\";float: left;margin-right: 0.25em;color: #696969;}#sk-container-id-16 label.sk-toggleable__label-arrow:hover:before {color: black;}#sk-container-id-16 div.sk-estimator:hover label.sk-toggleable__label-arrow:before {color: black;}#sk-container-id-16 div.sk-toggleable__content {max-height: 0;max-width: 0;overflow: hidden;text-align: left;background-color: #f0f8ff;}#sk-container-id-16 div.sk-toggleable__content pre {margin: 0.2em;color: black;border-radius: 0.25em;background-color: #f0f8ff;}#sk-container-id-16 input.sk-toggleable__control:checked~div.sk-toggleable__content {max-height: 200px;max-width: 100%;overflow: auto;}#sk-container-id-16 input.sk-toggleable__control:checked~label.sk-toggleable__label-arrow:before {content: \"▾\";}#sk-container-id-16 div.sk-estimator input.sk-toggleable__control:checked~label.sk-toggleable__label {background-color: #d4ebff;}#sk-container-id-16 div.sk-label input.sk-toggleable__control:checked~label.sk-toggleable__label {background-color: #d4ebff;}#sk-container-id-16 input.sk-hidden--visually {border: 0;clip: rect(1px 1px 1px 1px);clip: rect(1px, 1px, 1px, 1px);height: 1px;margin: -1px;overflow: hidden;padding: 0;position: absolute;width: 1px;}#sk-container-id-16 div.sk-estimator {font-family: monospace;background-color: #f0f8ff;border: 1px dotted black;border-radius: 0.25em;box-sizing: border-box;margin-bottom: 0.5em;}#sk-container-id-16 div.sk-estimator:hover {background-color: #d4ebff;}#sk-container-id-16 div.sk-parallel-item::after {content: \"\";width: 100%;border-bottom: 1px solid gray;flex-grow: 1;}#sk-container-id-16 div.sk-label:hover label.sk-toggleable__label {background-color: #d4ebff;}#sk-container-id-16 div.sk-serial::before {content: \"\";position: absolute;border-left: 1px solid gray;box-sizing: border-box;top: 0;bottom: 0;left: 50%;z-index: 0;}#sk-container-id-16 div.sk-serial {display: flex;flex-direction: column;align-items: center;background-color: white;padding-right: 0.2em;padding-left: 0.2em;position: relative;}#sk-container-id-16 div.sk-item {position: relative;z-index: 1;}#sk-container-id-16 div.sk-parallel {display: flex;align-items: stretch;justify-content: center;background-color: white;position: relative;}#sk-container-id-16 div.sk-item::before, #sk-container-id-16 div.sk-parallel-item::before {content: \"\";position: absolute;border-left: 1px solid gray;box-sizing: border-box;top: 0;bottom: 0;left: 50%;z-index: -1;}#sk-container-id-16 div.sk-parallel-item {display: flex;flex-direction: column;z-index: 1;position: relative;background-color: white;}#sk-container-id-16 div.sk-parallel-item:first-child::after {align-self: flex-end;width: 50%;}#sk-container-id-16 div.sk-parallel-item:last-child::after {align-self: flex-start;width: 50%;}#sk-container-id-16 div.sk-parallel-item:only-child::after {width: 0;}#sk-container-id-16 div.sk-dashed-wrapped {border: 1px dashed gray;margin: 0 0.4em 0.5em 0.4em;box-sizing: border-box;padding-bottom: 0.4em;background-color: white;}#sk-container-id-16 div.sk-label label {font-family: monospace;font-weight: bold;display: inline-block;line-height: 1.2em;}#sk-container-id-16 div.sk-label-container {text-align: center;}#sk-container-id-16 div.sk-container {/* jupyter's `normalize.less` sets `[hidden] { display: none; }` but bootstrap.min.css set `[hidden] { display: none !important; }` so we also need the `!important` here to be able to override the default hidden behavior on the sphinx rendered scikit-learn.org. See: https://github.com/scikit-learn/scikit-learn/issues/21755 */display: inline-block !important;position: relative;}#sk-container-id-16 div.sk-text-repr-fallback {display: none;}</style><div id=\"sk-container-id-16\" class=\"sk-top-container\"><div class=\"sk-text-repr-fallback\"><pre>RandomForestClassifier(n_jobs=-1)</pre><b>In a Jupyter environment, please rerun this cell to show the HTML representation or trust the notebook. <br />On GitHub, the HTML representation is unable to render, please try loading this page with nbviewer.org.</b></div><div class=\"sk-container\" hidden><div class=\"sk-item\"><div class=\"sk-estimator sk-toggleable\"><input class=\"sk-toggleable__control sk-hidden--visually\" id=\"sk-estimator-id-16\" type=\"checkbox\" checked><label for=\"sk-estimator-id-16\" class=\"sk-toggleable__label sk-toggleable__label-arrow\">RandomForestClassifier</label><div class=\"sk-toggleable__content\"><pre>RandomForestClassifier(n_jobs=-1)</pre></div></div></div></div></div>"
            ],
            "text/plain": [
              "RandomForestClassifier(n_jobs=-1)"
            ]
          },
          "execution_count": 227,
          "metadata": {},
          "output_type": "execute_result"
        }
      ],
      "source": [
        "# Fitting the model with training data\n",
        "rf_model.fit(X_train, y_train)"
      ]
    },
    {
      "cell_type": "code",
      "execution_count": 228,
      "metadata": {
        "colab": {
          "base_uri": "https://localhost:8080/"
        },
        "id": "N1ynw7fnr9_Y",
        "outputId": "14667af4-0869-4a08-9f02-8832a7d3865f"
      },
      "outputs": [
        {
          "data": {
            "text/plain": [
              "0.785"
            ]
          },
          "execution_count": 228,
          "metadata": {},
          "output_type": "execute_result"
        }
      ],
      "source": [
        "# Scoring the model on the test data\n",
        "rf_model.score(X_test, y_test)"
      ]
    },
    {
      "cell_type": "code",
      "execution_count": 229,
      "metadata": {
        "id": "4FknA2BOr-C7"
      },
      "outputs": [],
      "source": [
        "# Creating a RandomForestClassifier object with n_jobs=-1 and n_estimators=200\n",
        "rf_model = RandomForestClassifier(n_jobs=-1, n_estimators=200)"
      ]
    },
    {
      "cell_type": "code",
      "execution_count": 230,
      "metadata": {
        "colab": {
          "base_uri": "https://localhost:8080/",
          "height": 75
        },
        "id": "Pj1jxXRBsNXk",
        "outputId": "d417856b-e746-4f84-c88b-8f26d808edf8"
      },
      "outputs": [
        {
          "data": {
            "text/html": [
              "<style>#sk-container-id-17 {color: black;background-color: white;}#sk-container-id-17 pre{padding: 0;}#sk-container-id-17 div.sk-toggleable {background-color: white;}#sk-container-id-17 label.sk-toggleable__label {cursor: pointer;display: block;width: 100%;margin-bottom: 0;padding: 0.3em;box-sizing: border-box;text-align: center;}#sk-container-id-17 label.sk-toggleable__label-arrow:before {content: \"▸\";float: left;margin-right: 0.25em;color: #696969;}#sk-container-id-17 label.sk-toggleable__label-arrow:hover:before {color: black;}#sk-container-id-17 div.sk-estimator:hover label.sk-toggleable__label-arrow:before {color: black;}#sk-container-id-17 div.sk-toggleable__content {max-height: 0;max-width: 0;overflow: hidden;text-align: left;background-color: #f0f8ff;}#sk-container-id-17 div.sk-toggleable__content pre {margin: 0.2em;color: black;border-radius: 0.25em;background-color: #f0f8ff;}#sk-container-id-17 input.sk-toggleable__control:checked~div.sk-toggleable__content {max-height: 200px;max-width: 100%;overflow: auto;}#sk-container-id-17 input.sk-toggleable__control:checked~label.sk-toggleable__label-arrow:before {content: \"▾\";}#sk-container-id-17 div.sk-estimator input.sk-toggleable__control:checked~label.sk-toggleable__label {background-color: #d4ebff;}#sk-container-id-17 div.sk-label input.sk-toggleable__control:checked~label.sk-toggleable__label {background-color: #d4ebff;}#sk-container-id-17 input.sk-hidden--visually {border: 0;clip: rect(1px 1px 1px 1px);clip: rect(1px, 1px, 1px, 1px);height: 1px;margin: -1px;overflow: hidden;padding: 0;position: absolute;width: 1px;}#sk-container-id-17 div.sk-estimator {font-family: monospace;background-color: #f0f8ff;border: 1px dotted black;border-radius: 0.25em;box-sizing: border-box;margin-bottom: 0.5em;}#sk-container-id-17 div.sk-estimator:hover {background-color: #d4ebff;}#sk-container-id-17 div.sk-parallel-item::after {content: \"\";width: 100%;border-bottom: 1px solid gray;flex-grow: 1;}#sk-container-id-17 div.sk-label:hover label.sk-toggleable__label {background-color: #d4ebff;}#sk-container-id-17 div.sk-serial::before {content: \"\";position: absolute;border-left: 1px solid gray;box-sizing: border-box;top: 0;bottom: 0;left: 50%;z-index: 0;}#sk-container-id-17 div.sk-serial {display: flex;flex-direction: column;align-items: center;background-color: white;padding-right: 0.2em;padding-left: 0.2em;position: relative;}#sk-container-id-17 div.sk-item {position: relative;z-index: 1;}#sk-container-id-17 div.sk-parallel {display: flex;align-items: stretch;justify-content: center;background-color: white;position: relative;}#sk-container-id-17 div.sk-item::before, #sk-container-id-17 div.sk-parallel-item::before {content: \"\";position: absolute;border-left: 1px solid gray;box-sizing: border-box;top: 0;bottom: 0;left: 50%;z-index: -1;}#sk-container-id-17 div.sk-parallel-item {display: flex;flex-direction: column;z-index: 1;position: relative;background-color: white;}#sk-container-id-17 div.sk-parallel-item:first-child::after {align-self: flex-end;width: 50%;}#sk-container-id-17 div.sk-parallel-item:last-child::after {align-self: flex-start;width: 50%;}#sk-container-id-17 div.sk-parallel-item:only-child::after {width: 0;}#sk-container-id-17 div.sk-dashed-wrapped {border: 1px dashed gray;margin: 0 0.4em 0.5em 0.4em;box-sizing: border-box;padding-bottom: 0.4em;background-color: white;}#sk-container-id-17 div.sk-label label {font-family: monospace;font-weight: bold;display: inline-block;line-height: 1.2em;}#sk-container-id-17 div.sk-label-container {text-align: center;}#sk-container-id-17 div.sk-container {/* jupyter's `normalize.less` sets `[hidden] { display: none; }` but bootstrap.min.css set `[hidden] { display: none !important; }` so we also need the `!important` here to be able to override the default hidden behavior on the sphinx rendered scikit-learn.org. See: https://github.com/scikit-learn/scikit-learn/issues/21755 */display: inline-block !important;position: relative;}#sk-container-id-17 div.sk-text-repr-fallback {display: none;}</style><div id=\"sk-container-id-17\" class=\"sk-top-container\"><div class=\"sk-text-repr-fallback\"><pre>RandomForestClassifier(n_estimators=200, n_jobs=-1)</pre><b>In a Jupyter environment, please rerun this cell to show the HTML representation or trust the notebook. <br />On GitHub, the HTML representation is unable to render, please try loading this page with nbviewer.org.</b></div><div class=\"sk-container\" hidden><div class=\"sk-item\"><div class=\"sk-estimator sk-toggleable\"><input class=\"sk-toggleable__control sk-hidden--visually\" id=\"sk-estimator-id-17\" type=\"checkbox\" checked><label for=\"sk-estimator-id-17\" class=\"sk-toggleable__label sk-toggleable__label-arrow\">RandomForestClassifier</label><div class=\"sk-toggleable__content\"><pre>RandomForestClassifier(n_estimators=200, n_jobs=-1)</pre></div></div></div></div></div>"
            ],
            "text/plain": [
              "RandomForestClassifier(n_estimators=200, n_jobs=-1)"
            ]
          },
          "execution_count": 230,
          "metadata": {},
          "output_type": "execute_result"
        }
      ],
      "source": [
        "# Fitting the model with training data\n",
        "rf_model.fit(X_train, y_train)"
      ]
    },
    {
      "cell_type": "code",
      "execution_count": 231,
      "metadata": {
        "colab": {
          "base_uri": "https://localhost:8080/"
        },
        "id": "7AggZyaPsUAd",
        "outputId": "079427fe-cfa0-40ac-aa09-249ea7cd6197"
      },
      "outputs": [
        {
          "data": {
            "text/plain": [
              "0.805"
            ]
          },
          "execution_count": 231,
          "metadata": {},
          "output_type": "execute_result"
        }
      ],
      "source": [
        "# Scoring the model on the test data\n",
        "rf_model.score(X_test, y_test)"
      ]
    },
    {
      "cell_type": "code",
      "execution_count": 232,
      "metadata": {
        "colab": {
          "base_uri": "https://localhost:8080/"
        },
        "id": "Qcw1sli6uFwZ",
        "outputId": "efbabc4c-3d12-40fe-8bfe-4e420b4ef85d"
      },
      "outputs": [
        {
          "data": {
            "text/plain": [
              "array([[84,  7],\n",
              "       [32, 77]])"
            ]
          },
          "execution_count": 232,
          "metadata": {},
          "output_type": "execute_result"
        }
      ],
      "source": [
        "# Constructing the confusion matrix.\n",
        "from sklearn.metrics import confusion_matrix\n",
        "y_pred = rf_model.predict(X_test)\n",
        "\n",
        "cm = confusion_matrix(y_test, y_pred)\n",
        "cm"
      ]
    },
    {
      "cell_type": "code",
      "execution_count": 233,
      "metadata": {
        "colab": {
          "base_uri": "https://localhost:8080/"
        },
        "id": "sbv8ObaZxZi8",
        "outputId": "57c82158-9a5d-4915-8ef5-0e08800ae616"
      },
      "outputs": [
        {
          "name": "stdout",
          "output_type": "stream",
          "text": [
            "True Positives :  77\n",
            "True Negatives :  84\n",
            "False Positives :  7\n",
            "False Negatives :  32\n"
          ]
        }
      ],
      "source": [
        "TP = cm[1, 1]  # true positives\n",
        "TN = cm[0, 0]  # true negatives\n",
        "FP = cm[0, 1]  # false positives\n",
        "FN = cm[1, 0]  # false negatives\n",
        "\n",
        "print('True Positives : ', TP)\n",
        "print('True Negatives : ', TN)\n",
        "print('False Positives : ', FP)\n",
        "print('False Negatives : ', FN)"
      ]
    },
    {
      "cell_type": "code",
      "execution_count": 3,
      "metadata": {
        "colab": {
          "base_uri": "https://localhost:8080/",
          "height": 430
        },
        "id": "a9FzZ8-I6cSu",
        "outputId": "a5728562-180b-4a2a-9f44-a974239e0ebc"
      },
      "outputs": [
        {
          "ename": "NameError",
          "evalue": "name 'cm' is not defined",
          "output_type": "error",
          "traceback": [
            "\u001b[0;31m---------------------------------------------------------------------------\u001b[0m",
            "\u001b[0;31mNameError\u001b[0m                                 Traceback (most recent call last)",
            "Cell \u001b[0;32mIn[3], line 1\u001b[0m\n\u001b[0;32m----> 1\u001b[0m sns\u001b[38;5;241m.\u001b[39mheatmap(cm, annot\u001b[38;5;241m=\u001b[39m\u001b[38;5;28;01mTrue\u001b[39;00m, cbar\u001b[38;5;241m=\u001b[39m\u001b[38;5;28;01mFalse\u001b[39;00m, fmt\u001b[38;5;241m=\u001b[39m\u001b[38;5;124m\"\u001b[39m\u001b[38;5;124md\u001b[39m\u001b[38;5;124m\"\u001b[39m, cmap\u001b[38;5;241m=\u001b[39m\u001b[38;5;124m\"\u001b[39m\u001b[38;5;124mRdYlGn\u001b[39m\u001b[38;5;124m\"\u001b[39m, annot_kws\u001b[38;5;241m=\u001b[39m{\u001b[38;5;124m\"\u001b[39m\u001b[38;5;124msize\u001b[39m\u001b[38;5;124m\"\u001b[39m: \u001b[38;5;241m15\u001b[39m})\n\u001b[1;32m      2\u001b[0m plt\u001b[38;5;241m.\u001b[39mshow()\n",
            "\u001b[0;31mNameError\u001b[0m: name 'cm' is not defined"
          ]
        }
      ],
      "source": [
        "sns.heatmap(cm, annot=True, cbar=False, fmt=\"d\", cmap=\"RdYlGn\", annot_kws={\"size\": 15})\n",
        "plt.show()"
      ]
    },
    {
      "cell_type": "code",
      "execution_count": 235,
      "metadata": {
        "colab": {
          "base_uri": "https://localhost:8080/"
        },
        "id": "7Npk-SnSyXUv",
        "outputId": "9b6a2995-b06c-48b3-e597-ea00bbf3026d"
      },
      "outputs": [
        {
          "name": "stdout",
          "output_type": "stream",
          "text": [
            "Number of test Comments :  200\n",
            "Number of actual Negative Comments :  109\n",
            "Number of actual Positive Comments :  91\n",
            "Number of predicted Comments as Negative Ones:  84\n",
            "Number of predicted Comments as Positive Ones :  116\n"
          ]
        }
      ],
      "source": [
        "print('Number of test Comments : ', TP + TN + FP + FN)\n",
        "print('Number of actual Negative Comments : ', TP + FN)\n",
        "print('Number of actual Positive Comments : ', TN + FP)\n",
        "print('Number of predicted Comments as Negative Ones: ', TP + FP)\n",
        "print('Number of predicted Comments as Positive Ones : ', FN + TN)"
      ]
    },
    {
      "cell_type": "code",
      "execution_count": 236,
      "metadata": {
        "colab": {
          "base_uri": "https://localhost:8080/"
        },
        "id": "oVOUSJWq17ht",
        "outputId": "91990f78-2a8f-4019-8c4d-152de0f4fec4"
      },
      "outputs": [
        {
          "name": "stdout",
          "output_type": "stream",
          "text": [
            "Accuracy :  0.805\n",
            "Precision :  0.917\n",
            "Recall :  0.706\n",
            "F1 Score :  0.798\n"
          ]
        }
      ],
      "source": [
        "Accuracy = (TP + TN) / (TP + TN + FP + FN)\n",
        "print('Accuracy : ', round(Accuracy, 3))\n",
        "\n",
        "Precision = TP / (TP + FP)\n",
        "print('Precision : ', round(Precision, 3))\n",
        "\n",
        "Recall = TP / (TP + FN)\n",
        "print('Recall : ', round(Recall, 3))\n",
        "\n",
        "F1Score = (2* Precision*Recall)/(Precision+Recall)\n",
        "print (\"F1 Score : \",round(F1Score,3))"
      ]
    }
  ],
  "metadata": {
    "colab": {
      "provenance": [],
      "toc_visible": true
    },
    "kernelspec": {
      "display_name": "Python 3",
      "name": "python3"
    },
    "language_info": {
      "codemirror_mode": {
        "name": "ipython",
        "version": 3
      },
      "file_extension": ".py",
      "mimetype": "text/x-python",
      "name": "python",
      "nbconvert_exporter": "python",
      "pygments_lexer": "ipython3",
      "version": "3.11.7"
    }
  },
  "nbformat": 4,
  "nbformat_minor": 0
}
